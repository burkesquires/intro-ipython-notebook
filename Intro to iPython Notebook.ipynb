{
 "metadata": {
  "celltoolbar": "Edit Metadata",
  "name": "",
  "signature": "sha256:aec37bed096ab1a9d83b5a1b29098ff3a7379a5bd396943109e2e39facc68f3d"
 },
 "nbformat": 3,
 "nbformat_minor": 0,
 "worksheets": [
  {
   "cells": [
    {
     "cell_type": "markdown",
     "metadata": {
      "slideshow": {
       "slide_type": "slide"
      }
     },
     "source": [
      "#Introduction to iPython Notebook\n",
      "\n",
      "###R. Burke Squires\n",
      "###NIAID Bioinformatics and Computational Biosciences Branch (BCBB)"
     ]
    },
    {
     "cell_type": "markdown",
     "metadata": {
      "slideshow": {
       "slide_type": "slide"
      }
     },
     "source": [
      "#Python Programming for Scientists Series\n",
      "- Introduction to iPython Notebook\n",
      "- Introduction to Python Programming\n",
      "- Introduction to Biopython Programming\n",
      "- Introduction to Data Analysis with Python"
     ]
    },
    {
     "cell_type": "markdown",
     "metadata": {
      "slideshow": {
       "slide_type": "slide"
      }
     },
     "source": [
      "##NIAID Bioinformatics and Computational Biosciences (BCBB)\n",
      "Yentram Huyen, Ph.D., Chief\n",
      "\n",
      "Major Areas of Research\n",
      "- Computational biology collaboration and training\n",
      "- Bioinformatics software development\n",
      "- Biocomputing resources\n",
      "\n",
      "Personnell\n",
      "- Computational biologists (Consultants)\n",
      "- Scientific programmers\n",
      "- Program managers\n",
      "\n",
      "\n",
      "<img src=\"http://www.niaid.nih.gov/SiteCollectionImages/about/organization/odoffices/omo/ocicb/BCBBStaff.jpg\">"
     ]
    },
    {
     "cell_type": "markdown",
     "metadata": {
      "slideshow": {
       "slide_type": "slide"
      }
     },
     "source": [
      "#Introduction to iPython Notebook\n",
      "\n",
      "##Outline\n",
      "\n",
      "Materials take from IPython tutorial found [here](https://github.com/ipython/ipython/tree/2.x)\n",
      "\n",
      "Download the examples folder to the same folder as here and the link below will work.\n",
      "\n",
      "- [Notebook](examples/Notebook/Index.ipynb):The IPython Notebook frontend\n",
      "    - What is the IPython Notebook?\n",
      "    - Running the Notebook Server\n",
      "    - Notebook Basics\n",
      "    - Running Code\n",
      "    - Working With Markdown Cells\n",
      "- [Kernel](examples/IPython Kernel/Index.ipynb):IPython's core syntax and command line features available in all frontends\n",
      "    - Cell Magics\n",
      "    - Script Magics\n",
      "    - Rich Output\n",
      "    - Custom Display Logic\n",
      "    - Plotting in the Notebook\n",
      "    - Capturing Output\n",
      "- [Parallel Computing](examples/Parallel Computing/Index.ipynb): IPython's library for interactive parallel computing\n",
      "    - Basics\n",
      "- Data visualization in iPython Notebooks\n",
      "    - [Matplotlib](https://github.com/jrjohansson/scientific-python-lectures): Static data visualization with matplotlib (Download Lecture-4-Matplotlib.ipynb)\n",
      "    - [Bokeh](http://nbviewer.ipython.org/github/ContinuumIO/bokeh-notebooks/blob/master/quickstart/quickstart.ipynb): Dynamic data visualization with bokeh"
     ]
    },
    {
     "cell_type": "markdown",
     "metadata": {
      "slideshow": {
       "slide_type": "subslide"
      }
     },
     "source": [
      "###Additional iPython Notebook Examples:\n",
      "http://nbviewer.ipython.org"
     ]
    }
   ],
   "metadata": {}
  }
 ]
}