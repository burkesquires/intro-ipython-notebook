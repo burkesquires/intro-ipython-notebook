{
 "metadata": {
  "gist_id": "cedf51e5d24af8694bfe",
  "name": "",
  "signature": "sha256:8e2515fff6b845c8ecadd4e9c168b39577ea30ffb8716695cec44ba0da487367"
 },
 "nbformat": 3,
 "nbformat_minor": 0,
 "worksheets": [
  {
   "cells": [
    {
     "cell_type": "heading",
     "level": 1,
     "metadata": {},
     "source": [
      "Introduction to Python Programming"
     ]
    },
    {
     "cell_type": "markdown",
     "metadata": {},
     "source": [
      "<img align=left src=\"https://www.python.org/static/community_logos/python-logo-master-v3-TM.png\">"
     ]
    },
    {
     "cell_type": "markdown",
     "metadata": {},
     "source": [
      "Please download this notebook here: http://bit.ly/intro-python-bio"
     ]
    },
    {
     "cell_type": "markdown",
     "metadata": {},
     "source": [
      "---"
     ]
    },
    {
     "cell_type": "heading",
     "level": 2,
     "metadata": {},
     "source": [
      "R. Burke Squires"
     ]
    },
    {
     "cell_type": "heading",
     "level": 3,
     "metadata": {},
     "source": [
      "NIAID Bioinformatics and Computational Biosciences Branch (BCBB)"
     ]
    },
    {
     "cell_type": "markdown",
     "metadata": {},
     "source": [
      "---"
     ]
    },
    {
     "cell_type": "heading",
     "level": 1,
     "metadata": {},
     "source": [
      "Python Programming for Scientists Series"
     ]
    },
    {
     "cell_type": "markdown",
     "metadata": {},
     "source": [
      "- Introduction to iPython Notebook\n",
      "- Introduction to Python Programming\n",
      "- Introduction to Biopython Programming\n",
      "- Introduction to Data Analysis with Python\n",
      "- Introduction to Data Visualization with Python"
     ]
    },
    {
     "cell_type": "markdown",
     "metadata": {},
     "source": [
      "---"
     ]
    },
    {
     "cell_type": "markdown",
     "metadata": {},
     "source": [
      "##NIAID Bioinformatics and Computational Biosciences (BCBB)\n",
      "Darrell Hurt, Ph.D., Acting Branch Chief\n",
      "\n",
      "Major Areas of Research\n",
      "- Computational biology collaboration and training\n",
      "- Bioinformatics software development\n",
      "- Biocomputing resources\n",
      "\n",
      "Personnell\n",
      "- Computational biologists (Consultants)\n",
      "- Scientific programmers\n",
      "- Program managers\n",
      "\n",
      "\n",
      "<img src=\"http://www.niaid.nih.gov/SiteCollectionImages/about/organization/odoffices/omo/ocicb/BCBBStaff.jpg\">"
     ]
    },
    {
     "cell_type": "markdown",
     "metadata": {},
     "source": [
      "---"
     ]
    },
    {
     "cell_type": "markdown",
     "metadata": {},
     "source": [
      "#Why Python?\n",
      "\n",
      "<img src=\"http://imgs.xkcd.com/comics/python.png\">"
     ]
    },
    {
     "cell_type": "markdown",
     "metadata": {},
     "source": [
      "---"
     ]
    },
    {
     "cell_type": "markdown",
     "metadata": {},
     "source": [
      "#Introduction to Python Programming\n",
      "\n",
      "##Outline\n",
      "\n",
      "- iPython & Integrated Development Environments\n",
      "- Printing and manipulating text\n",
      "- Reading and writing files\n",
      "- Lists and Loops\n",
      "- Writing your own functions\n",
      "- Conditional tests\n",
      "- Regular Expressions\n",
      "- Dictionaries\n",
      "- Files, programs and user input"
     ]
    },
    {
     "cell_type": "markdown",
     "metadata": {},
     "source": [
      "---"
     ]
    },
    {
     "cell_type": "heading",
     "level": 2,
     "metadata": {},
     "source": [
      "Resources:"
     ]
    },
    {
     "cell_type": "markdown",
     "metadata": {},
     "source": [
      "- [Python for Biologists (web-based lessons)](http://pythonforbiologists.com/index.php/introduction-to-python-for-biologists/)\n",
      "\n",
      "- [Python for Informatics: Exploring Information (Free ebook, video, audio)](http://www.pythonlearn.com)\n",
      "\n",
      "- [How to Think Like A Computer Scientist (free ebook)](http://www.greenteapress.com/thinkpython/)"
     ]
    },
    {
     "cell_type": "markdown",
     "metadata": {},
     "source": [
      "---"
     ]
    },
    {
     "cell_type": "markdown",
     "metadata": {},
     "source": [
      "#Goals\n",
      "\n",
      "- Introduce you to the basics of the python programming language\n",
      "- Introduce you to the iPython environment and integrated development environments (IDE)\n",
      "- Enable you to write or assemble scripts of your own or modify existing scripts for your own purposes\n",
      "- Prepare you for the next session \u201cIntroduction to Biopython Programming\u201d"
     ]
    },
    {
     "cell_type": "markdown",
     "metadata": {},
     "source": [
      "---"
     ]
    },
    {
     "cell_type": "markdown",
     "metadata": {},
     "source": [
      "#Where do we start?"
     ]
    },
    {
     "cell_type": "markdown",
     "metadata": {},
     "source": [
      "###Programming\u2026is it Magic?\n",
      "\n",
      "No\u2026BUT it can seem like it at times! :-)\n",
      "\n",
      "Working with text files"
     ]
    },
    {
     "cell_type": "markdown",
     "metadata": {},
     "source": [
      "---"
     ]
    },
    {
     "cell_type": "heading",
     "level": 2,
     "metadata": {},
     "source": [
      "Executing Python Statements with the Python Interpreter"
     ]
    },
    {
     "cell_type": "markdown",
     "metadata": {},
     "source": [
      "\n",
      "\n",
      "In the Terminal (or DOS prompt) type:\n",
      "\n",
      "    $ python\n",
      "    \n",
      "You should see something like this:\n",
      "\n",
      "    $ python\n",
      "    Python 2.7.2 (default, Oct 11 2012, 20:14:37)\n",
      "    [GCC 4.2.1 Compatible Apple Clang 4.0 (tags/Apple/clang-418.0.60)] on darwin\n",
      "    Type \"help\", \"copyright\", \"credits\" or \"license\" for more information.\n",
      "    >>> \n",
      "\n",
      "Enter\n",
      "\n",
      "    print(\u2018hello world\u2019)\n",
      "\n",
      "and hit return\n",
      "\n",
      "__Congratulation!__ You have just written your first python script! The famous \"Hello, World\" program.\n",
      "\n",
      "To exit type:\n",
      "\n",
      "    exit()"
     ]
    },
    {
     "cell_type": "heading",
     "level": 2,
     "metadata": {},
     "source": [
      "Executing Python Scripts from a File"
     ]
    },
    {
     "cell_type": "markdown",
     "metadata": {},
     "source": [
      "Open a text editor (TextEdit on Mac, NotePad in Windows) and type:\n",
      "\n",
      "    print(\u2018hello world\u2019)\n",
      "\n",
      "Save the file as \"hello_world.py\"\n",
      "\n",
      "__Note:__ Make sure there is not an extra extension on the end such as \".txt\"\n",
      "\n",
      "To run the script, in the Terminal (or DOS prompt) type:\n",
      "\n",
      "    python hello_world.py\n",
      "\n",
      "and hit return.\n",
      "\n",
      "You should see:\n",
      "\n",
      "    $ hello world"
     ]
    },
    {
     "cell_type": "markdown",
     "metadata": {},
     "source": [
      "---"
     ]
    },
    {
     "cell_type": "heading",
     "level": 2,
     "metadata": {},
     "source": [
      "How Do You Write Longers Programs / Scripts?"
     ]
    },
    {
     "cell_type": "markdown",
     "metadata": {},
     "source": [
      "###Integrated Development Environment (IDE)\n",
      "\n",
      "- [Spyder](http://code.google.com/p/spyderlib/): Installed as part of Continuum Analytics Anaconda package\n",
      "\n",
      "<img src=\"http://wiki.spyderlib.googlecode.com/hg/Screenshots/spyder-mac.png\">\n",
      "\n",
      "\n",
      "- [PyCharm](http://www.jetbrains.com/pycharm/): Great debugging tools, free Community edition; Now support IPython Notebook editing and running.\n",
      "\n",
      "<img src=\"http://www.jetbrains.com/pycharm/features/screenshots/tour/framed/PC_debugger.png\">\n",
      "\n",
      "\n",
      "- [Enthought Canopy Express](https://www.enthought.com/products/epd/free/): Offers IDE / iPython Notebook integration; BioPython not part of free install "
     ]
    },
    {
     "cell_type": "markdown",
     "metadata": {},
     "source": [
      "---"
     ]
    },
    {
     "cell_type": "markdown",
     "metadata": {},
     "source": [
      "Advantages of IDEs\n",
      "\n",
      "- Intelligent Editor (PyCharm features):\n",
      "    - Code completion, on-the-fly error highlighting, auto-fixes, etc.\n",
      "    - Automated code refactorings and rich navigation capabilities\n",
      "    - Integrated debugger and unit testing support\n",
      "    - Native version control system (VCS) integrations\n",
      "    - Customizable UI and key-bindings, with VIM emulation available"
     ]
    },
    {
     "cell_type": "markdown",
     "metadata": {},
     "source": [
      "---"
     ]
    },
    {
     "cell_type": "heading",
     "level": 1,
     "metadata": {},
     "source": [
      "iPython"
     ]
    },
    {
     "cell_type": "markdown",
     "metadata": {},
     "source": [
      "IPython provides architecture for interactive computing:\n",
      "- Powerful interactive shells (terminal and Qt-based).\n",
      "- A browser-based notebook with support for code, text, mathematical expressions, inline plots and other rich media.\n",
      "- Support for interactive data visualization and use of GUI toolkits.\n",
      "- Easy to use, high performance tools for parallel computing."
     ]
    },
    {
     "cell_type": "markdown",
     "metadata": {},
     "source": [
      "I have already installed iPython using the [Anaconda](http://continuum.io/downloads.html) installed (from Continuum Analytics). To launch iPython Notebook, in the Terminal (or DOS prompt) type:\n",
      "\n",
      "    $ ipython notebook"
     ]
    },
    {
     "cell_type": "heading",
     "level": 2,
     "metadata": {},
     "source": [
      "iPython \u2013 Home Screen"
     ]
    },
    {
     "cell_type": "markdown",
     "metadata": {},
     "source": [
      "You should be seeing a screen like this:\n",
      "\n",
      "<img src=\"https://raw.githubusercontent.com/quantopian/ipython/terminal-handler-encoding/examples/Notebook/images/dashboard_notebooks_tab.png\">"
     ]
    },
    {
     "cell_type": "markdown",
     "metadata": {},
     "source": [
      "---"
     ]
    },
    {
     "cell_type": "markdown",
     "metadata": {},
     "source": [
      "##Python IDEs in the Cloud\n",
      "\n",
      "[Python Anywhere](http://www.pythonanywhere.com)\n",
      "\n",
      "[Python Fiddle: Python Cloud IDE](http://pythonfiddle.com)\n",
      "\n",
      "[Koding: Free Programming Virtual Machine](http://koding.com)"
     ]
    },
    {
     "cell_type": "markdown",
     "metadata": {},
     "source": [
      "---"
     ]
    },
    {
     "cell_type": "heading",
     "level": 1,
     "metadata": {},
     "source": [
      "Introduction to Python"
     ]
    },
    {
     "cell_type": "markdown",
     "metadata": {},
     "source": [
      "---"
     ]
    },
    {
     "cell_type": "heading",
     "level": 2,
     "metadata": {},
     "source": [
      "Printing and manipulating text:"
     ]
    },
    {
     "cell_type": "markdown",
     "metadata": {},
     "source": [
      "Insert a cell below, type the code below and run:\n",
      "\n",
      "    print(\u201cHello world\u201d)\n",
      "\n",
      "The whole thing is a statement; print is a function\n",
      "\n",
      "Comments\n",
      "\n",
      "    # This is a comment\n",
      "\n",
      "Anything after the pound sign (#) is ignored by the python interpreter; great for explaing what is going on in your code"
     ]
    },
    {
     "cell_type": "code",
     "collapsed": false,
     "input": [
      "# this is a comment\n",
      "print(\"Hello, world\")"
     ],
     "language": "python",
     "metadata": {},
     "outputs": []
    },
    {
     "cell_type": "heading",
     "level": 2,
     "metadata": {},
     "source": [
      "Storing String in Variables"
     ]
    },
    {
     "cell_type": "code",
     "collapsed": false,
     "input": [
      "#In a new cell below type, and run:\n",
      "\n",
      "# store a short DNA sequence in the variable my_dna\n",
      "my_dna = \"ATGCGTA\"\n",
      "\n",
      "# now print the DNA sequence\n",
      "print(my_dna)"
     ],
     "language": "python",
     "metadata": {},
     "outputs": []
    },
    {
     "cell_type": "heading",
     "level": 2,
     "metadata": {},
     "source": [
      "Concatenation"
     ]
    },
    {
     "cell_type": "markdown",
     "metadata": {},
     "source": [
      "In a new cell below type, and run:\n",
      "\n",
      "my_dna = \"AATT\" + \"GGCC\"\n",
      "\n",
      "print(my_dna)\n",
      "    \n",
      "What gets printed out? Next type:\n",
      "\n",
      "    upstream = \"AAA\"\n",
      "\n",
      "    my_dna = upstream + \"ATGC\"\n",
      "\n",
      "my_dna should now be \"AAAATGC\""
     ]
    },
    {
     "cell_type": "code",
     "collapsed": false,
     "input": [
      "print(my_dna)"
     ],
     "language": "python",
     "metadata": {},
     "outputs": []
    },
    {
     "cell_type": "heading",
     "level": 2,
     "metadata": {},
     "source": [
      "Finding the Length of a String"
     ]
    },
    {
     "cell_type": "code",
     "collapsed": false,
     "input": [
      "#In a new cell below type, and run:\n",
      "\n",
      "#store the DNA sequence in a variable\n",
      "\n",
      "my_dna = \"ATGCGAGT\"\n",
      "\n",
      "# calculate the length of the sequence and store it in a variable\n",
      "\n",
      "dna_length = len(my_dna)\n",
      "\n",
      "# print a message telling us the DNA sequence lenth\n",
      "\n",
      "print(\"The length of the DNA sequence is \" + str(dna_length))"
     ],
     "language": "python",
     "metadata": {},
     "outputs": []
    },
    {
     "cell_type": "code",
     "collapsed": false,
     "input": [
      "my_dna = \"ATGCGAGT\"\n",
      "\n",
      "dna_length = len(my_dna)\n",
      "\n",
      "print(\"The length of the DNA sequence is \" + str(dna_length))\n",
      "\n",
      "#What is the length of the sequence?"
     ],
     "language": "python",
     "metadata": {},
     "outputs": []
    },
    {
     "cell_type": "heading",
     "level": 2,
     "metadata": {},
     "source": [
      "Replacement"
     ]
    },
    {
     "cell_type": "code",
     "collapsed": false,
     "input": [
      "#In a new cell below type, and run:\n",
      "    \n",
      "protein = \"vlspadktnv\"\n",
      "\n",
      "# replace valine with tyrosine\n",
      "\n",
      "print(protein.replace(\"v\", \"y\"))"
     ],
     "language": "python",
     "metadata": {},
     "outputs": []
    },
    {
     "cell_type": "code",
     "collapsed": false,
     "input": [
      "protein.replace?"
     ],
     "language": "python",
     "metadata": {},
     "outputs": []
    },
    {
     "cell_type": "code",
     "collapsed": false,
     "input": [
      "# we can replace more than one character\n",
      "\n",
      "print(protein.replace(\"vls\", \"ymt\"))\n",
      "\n",
      "# the original variable is not affected\n",
      "\n",
      "print(protein)\n",
      "\n",
      "#Is the correct sequence printed out?"
     ],
     "language": "python",
     "metadata": {},
     "outputs": []
    },
    {
     "cell_type": "heading",
     "level": 2,
     "metadata": {},
     "source": [
      "Slicing"
     ]
    },
    {
     "cell_type": "markdown",
     "metadata": {},
     "source": [
      "In a new cell below type, and run:\n",
      "\n",
      "    protein = \"vlspadktnv\"\n",
      "\n",
      "    # print positions three to five\n",
      "\n",
      "    print(protein[3:5])\n",
      "\n",
      "    # NOTE: positions start at zero, not one\n",
      "\n",
      "    print(protein[0:6])\n",
      "\n",
      "    # if we use a stop position beyond the end, it's the same as using the end\n",
      "\n",
      "    print(protein[0:60])\n",
      "\n",
      "What output did you get?"
     ]
    },
    {
     "cell_type": "code",
     "collapsed": false,
     "input": [
      "print(protein[3:])\n",
      "print(protein[:-3])"
     ],
     "language": "python",
     "metadata": {},
     "outputs": []
    },
    {
     "cell_type": "heading",
     "level": 2,
     "metadata": {},
     "source": [
      "Counting"
     ]
    },
    {
     "cell_type": "markdown",
     "metadata": {},
     "source": [
      "In a new cell below type, and run:\n",
      "\n",
      "    protein = \"vlspadktnv\"\n",
      "\n",
      "    # count amino acid residues\n",
      "\n",
      "    valine_count = protein.count('v')\n",
      "\n",
      "    lsp_count = protein.count('lsp')\n",
      "\n",
      "    tryptophan_count = protein.count('w')\n",
      "\n",
      "    # now print the counts\n",
      "\n",
      "    print(\"valines: \" + str(valine_count))\n",
      "\n",
      "    print(\"lsp: \" + str(lsp_count))\n",
      "\n",
      "    print(\"tryptophans: \" + str(tryptophan_count))\n",
      "\n",
      "What counts did you get?"
     ]
    },
    {
     "cell_type": "heading",
     "level": 2,
     "metadata": {},
     "source": [
      "Excersize"
     ]
    },
    {
     "cell_type": "markdown",
     "metadata": {},
     "source": [
      "Calculating AT content for the following DNA sequence:\n",
      "\n",
      "    ACTGATCGATTACGTATAGTATTTGCTATCATACATATATATCGATGCGTTCAT\n",
      "\n",
      "Write a program that will print out the AT content of this DNA sequence. Hint: you can use normal mathematical symbols like add (+), subtract (-), multiply (*), divide (/) and parentheses to carry out calculations on numbers in Python.\n",
      "\n",
      "Reminder: if you're using Python 2 rather than Python 3, include this line at the top of your program:\n",
      "\n",
      "    from __future__ import division"
     ]
    },
    {
     "cell_type": "markdown",
     "metadata": {},
     "source": [
      "Load solution..."
     ]
    },
    {
     "cell_type": "markdown",
     "metadata": {},
     "source": [
      "---"
     ]
    },
    {
     "cell_type": "heading",
     "level": 1,
     "metadata": {},
     "source": [
      "Reading and Writing Files"
     ]
    },
    {
     "cell_type": "heading",
     "level": 2,
     "metadata": {},
     "source": [
      "Reading a File"
     ]
    },
    {
     "cell_type": "markdown",
     "metadata": {},
     "source": [
      "In a new cell below type, and run:\n",
      "\n",
      "    my_file = open(\"dna.txt\")\n",
      "\n",
      "    file_contents = my_file.read()\n",
      "\n",
      "    print(file_contents)\n",
      "\n",
      "    my_file = open(\"dna.txt\")\n",
      "\n",
      "    my_file_contents = my_file.read()\n",
      "\n",
      "    # remove the newline from the end of the file contents\n",
      "\n",
      "    my_dna = my_file_contents.rstrip(\"\\n\")\n",
      "\n",
      "    dna_length = len(my_dna)\n",
      "\n",
      "    print(\"sequence is \" + my_dna + \" and length is \" + str(dna_length))\n",
      "\n",
      "How long is the sequence?"
     ]
    },
    {
     "cell_type": "heading",
     "level": 2,
     "metadata": {},
     "source": [
      "Writing to a File"
     ]
    },
    {
     "cell_type": "code",
     "collapsed": false,
     "input": [
      "#In a new cell below type, and run:\n",
      "\n",
      "my_file = open(\"out.txt\", \"w\")\n",
      "\n",
      "my_file.write(\"Hello world\")\n",
      "\n",
      "# remember to close the file\n",
      "\n",
      "my_file.close()\n",
      "\n",
      "my_file = open(\"out.txt\")\n",
      "\n",
      "print(my_file)\n"
     ],
     "language": "python",
     "metadata": {},
     "outputs": []
    },
    {
     "cell_type": "heading",
     "level": 2,
     "metadata": {},
     "source": [
      "Excersize"
     ]
    },
    {
     "cell_type": "markdown",
     "metadata": {},
     "source": [
      "Writing a FASTA file\n",
      "\n",
      "FASTA file format is a commonly-used DNA and protein sequence file format. A single sequence in FASTA format looks like this:\n",
      "\n",
      "    >sequence_name\n",
      "    ATCGACTGATCGATCGTACGAT\n",
      "\n",
      "Write a program that will create a FASTA file for the following three sequences \u2013 make sure that all sequences are in upper case and only contain the bases A, T, G and C.\n",
      "\n",
      "\n",
      "Sequence header\tDNA sequence\n",
      "\n",
      "    ABC123\tATCGTACGATCGATCGATCGCTAGACGTATCG\n",
      "    DEF456\tactgatcgacgatcgatcgatcacgact\n",
      "    HIJ789\tACTGAC-ACTGT--ACTGTA----CATGTG"
     ]
    },
    {
     "cell_type": "markdown",
     "metadata": {},
     "source": [
      "---"
     ]
    },
    {
     "cell_type": "heading",
     "level": 1,
     "metadata": {},
     "source": [
      "Lists and Loops"
     ]
    },
    {
     "cell_type": "heading",
     "level": 2,
     "metadata": {},
     "source": [
      "Lists"
     ]
    },
    {
     "cell_type": "markdown",
     "metadata": {},
     "source": [
      "In a new cell below type, and run:\n",
      "    \n",
      "    apes = [\"Homo sapiens\", \"Pan troglodytes\", \"Gorilla gorilla\"]\n",
      "\n",
      "    conserved_sites = [24, 56, 132]\n",
      "\n",
      "    print(apes[0])\n",
      "\n",
      "    first_site = conserved_sites[2]\n",
      "\n",
      "    chimp_index = apes.index(\"Pan troglodytes\")\n",
      "\n",
      "    # chimp_index is now 1\n",
      "\n",
      "    last_ape = apes[-1]\n",
      "    \n",
      "    print(last_ape)\n",
      "    \n",
      "Which ape is last?\n",
      "\n",
      "An additional list:\n",
      "\n",
      "    nucleotides = [\"T\", \u201dC\", \u201dA\u201d, \u201cG\u201d]\n",
      "\n",
      "    print(nucleotides)\n"
     ]
    },
    {
     "cell_type": "heading",
     "level": 2,
     "metadata": {},
     "source": [
      "Slicing & Appending Lists"
     ]
    },
    {
     "cell_type": "markdown",
     "metadata": {},
     "source": [
      "In a new cell below type, and run:\n",
      "\n",
      "    ranks = [\"kingdom\", \"phylum\", \"class\", \"order\", \"family\"]\n",
      "\n",
      "    lower_ranks = ranks[2:5]\n",
      "\n",
      "    # lower ranks are class, order and family\n",
      "\n",
      "    apes = [\"Homo sapiens\", \"Pan troglodytes\", \"Gorilla gorilla\"]\n",
      "\n",
      "    print(\"There are \" + str(len(apes)) + \" apes\")\n",
      "\n",
      "    apes.append(\"Pan paniscus\")\n",
      "   \n",
      "    print(\"Now there are \" + str(len(apes)) + \" apes\")\n",
      "    \n",
      "How many apres are there now?"
     ]
    },
    {
     "cell_type": "heading",
     "level": 2,
     "metadata": {},
     "source": [
      "Concatenating, Reversing & Sorting Lists"
     ]
    },
    {
     "cell_type": "code",
     "collapsed": false,
     "input": [
      "#In a new cell below type, and run:\n",
      "\n",
      "apes = [\"Homo sapiens\", \"Pan troglodytes\", \"Gorilla gorilla\"]\n",
      "\n",
      "monkeys = [\"Papio ursinus\", \"Macaca mulatta\"]\n",
      "\n",
      "primates = apes + monkeys\n",
      "\n",
      "print(str(len(apes)) + \" apes\")\n",
      "\n",
      "print(str(len(monkeys)) + \" monkeys\")\n",
      "\n",
      "print(str(len(primates)) + \" primates\")"
     ],
     "language": "python",
     "metadata": {},
     "outputs": []
    },
    {
     "cell_type": "code",
     "collapsed": false,
     "input": [
      "ranks = [\"kingdom\", \"phylum\", \"class\", \"order\", \"family\"]\n",
      "\n",
      "print(\"at the start : \" + str(ranks))\n",
      "\n",
      "rank_dup = ranks\n",
      "rank_dup.reverse()\n",
      "#rank2 = rank_dup.reverse()\n",
      "\n",
      "print(\"after reversing : \" + str(rank_dup))\n",
      "\n",
      "ranks.sort()\n",
      "\n",
      "print(\"after sorting : \" + str(ranks))\n",
      "\n",
      "#Is the order alphabetical?"
     ],
     "language": "python",
     "metadata": {},
     "outputs": []
    },
    {
     "cell_type": "code",
     "collapsed": false,
     "input": [
      "ranks.reverse?"
     ],
     "language": "python",
     "metadata": {},
     "outputs": []
    },
    {
     "cell_type": "heading",
     "level": 2,
     "metadata": {},
     "source": [
      "Looping through Lists"
     ]
    },
    {
     "cell_type": "code",
     "collapsed": false,
     "input": [
      "#In a new cell below type, and run:\n",
      "\n",
      "apes = [\"Homo sapiens\", \"Pan troglodytes\", \"Gorilla gorilla\"]\n",
      "\n",
      "for ape in apes:\n",
      "print(ape + \" is an ape\")\n",
      "\n",
      "for ape in apes:\n",
      "    name_length = len(ape)\n",
      "    first_letter = ape[0]\n",
      "    print(ape + \" is an ape. Its name starts with \" + first_letter)\n",
      "    print(\"Its name has \" + str(name_length) + \" letters\")\n",
      "\n",
      "#Does the output look correct?"
     ],
     "language": "python",
     "metadata": {},
     "outputs": []
    },
    {
     "cell_type": "heading",
     "level": 2,
     "metadata": {},
     "source": [
      "Indentation"
     ]
    },
    {
     "cell_type": "markdown",
     "metadata": {},
     "source": [
      "In a new cell below type, and run:\n",
      "\n",
      "    apes = [\"Homo sapiens\", \"Pan troglodytes\", \"Gorilla gorilla\"]\n",
      "    \n",
      "    for ape in apes:\n",
      "    name_length = len(ape)\n",
      "    first_letter = ape[0]\n",
      "    print(ape + \" is an ape. Its name starts with \" + first_letter)\n",
      "    print(\"Its name has \" + str(name_length) + \" letters\")\n",
      "\n",
      "Indentation errors\n",
      "\n",
      "Use tabs or spaces but not both "
     ]
    },
    {
     "cell_type": "heading",
     "level": 2,
     "metadata": {},
     "source": [
      "Using Strings as Lists, Splitting"
     ]
    },
    {
     "cell_type": "code",
     "collapsed": false,
     "input": [
      "#In a new cell below type, and run:\n",
      "\n",
      "name = \"martin\"\n",
      "\n",
      "for character in name:\n",
      "    print(\"one character is \" + character)\n",
      "\n",
      "names = \"melanogaster,simulans,yakuba,ananassae\"\n",
      "\n",
      "species = names.split(\",\")\n",
      "\n",
      "print(str(species))\n",
      "\n",
      "#What prints out?"
     ],
     "language": "python",
     "metadata": {},
     "outputs": []
    },
    {
     "cell_type": "markdown",
     "metadata": {},
     "source": [
      "What prints out?"
     ]
    },
    {
     "cell_type": "heading",
     "level": 2,
     "metadata": {},
     "source": [
      "Looping through File, Line by Line"
     ]
    },
    {
     "cell_type": "markdown",
     "metadata": {},
     "source": [
      "In a new cell below type, and run:\n",
      "\n",
      "    file = open(\"some_input.txt\")\n",
      "\n",
      "    for line in file:\n",
      "        # do something with the line\n",
      "        print(line)"
     ]
    },
    {
     "cell_type": "heading",
     "level": 2,
     "metadata": {},
     "source": [
      "Looping with Ranges"
     ]
    },
    {
     "cell_type": "markdown",
     "metadata": {},
     "source": [
      "Sometimes you want to loop over an interavely increasing set of nucleotides:\n",
      "\n",
      "protein = \"vlspadktnv\u201d\n",
      "\n",
      "vls\n",
      "vlsp\n",
      "vlspa\u2026\n",
      "\n",
      "In a new cell below type, and run:\n",
      "\n",
      "    stop_positions = [3,4,5,6,7,8,9,10]\n",
      "    for stop in stop_positions:\n",
      "        substring = protein[0:stop]\n",
      "        print(substring)\n",
      "\n",
      "A better option is to use the Range command:\n",
      "\n",
      "    for number in range(3, 8):\n",
      "        print(number)\n",
      "\n",
      "    for number in range(6):\n",
      "        print(number)"
     ]
    },
    {
     "cell_type": "code",
     "collapsed": false,
     "input": [
      "range(3, 100, 3)"
     ],
     "language": "python",
     "metadata": {},
     "outputs": []
    },
    {
     "cell_type": "heading",
     "level": 2,
     "metadata": {},
     "source": [
      "Excersize"
     ]
    },
    {
     "cell_type": "markdown",
     "metadata": {},
     "source": [
      "Processing DNA in a file\n",
      "\n",
      "The file input.txt contains a number of DNA sequences, one per line. Each sequence starts with the same 14 base pair fragment \u2013 a sequencing adapter that should have been removed. Write a program that will (a) trim this adapter and write the cleaned sequences to a new file and (b) print the length of each sequence to the screen."
     ]
    },
    {
     "cell_type": "heading",
     "level": 1,
     "metadata": {},
     "source": [
      "Writing Your Own Functions"
     ]
    },
    {
     "cell_type": "heading",
     "level": 2,
     "metadata": {},
     "source": [
      "Convert Code to Function"
     ]
    },
    {
     "cell_type": "markdown",
     "metadata": {},
     "source": [
      "Previously we wrote code to compute the AT percentage of a sequence:\n",
      "\n",
      "    my_dna = \"ACTGATCGATTACGTATAGTATTTGCTATCATACATATATATCGATGCGTTCAT\u201d\n",
      "    length = len(my_dna)\n",
      "    a_count = my_dna.count('A\u2019)\n",
      "    t_count = my_dna.count('T\u2019)\n",
      "    at_content = (a_count + t_count) / length\n",
      "    print(\"AT content is \" + str(at_content))"
     ]
    },
    {
     "cell_type": "code",
     "collapsed": false,
     "input": [
      "#In a new cell below type, and run:\n",
      "    \n",
      "from __future__ import division  #if using python 2\n",
      "\n",
      "def get_at_content(dna):\n",
      "    length = len(dna)\n",
      "    a_count = dna.count('A')\n",
      "    t_count = dna.count('T')\n",
      "    at_content = (a_count + t_count) / length\n",
      "    return at_content\n",
      "\n",
      "#==============================================\n",
      "    \n",
      "print(\"AT content is \" + str(get_at_content(\"ATGACTGGACCA\")))"
     ],
     "language": "python",
     "metadata": {},
     "outputs": []
    },
    {
     "cell_type": "heading",
     "level": 2,
     "metadata": {},
     "source": [
      "Improving our Function"
     ]
    },
    {
     "cell_type": "markdown",
     "metadata": {},
     "source": [
      "In a new cell below type (or udating the code above), and run:\n",
      "\n",
      "    def get_at_content(dna, sig_figs):\n",
      "        length = len(dna)\n",
      "        a_count = dna.upper().count('A')\n",
      "        t_count = dna.upper().count('T')\n",
      "        at_content = (a_count + t_count) / length\n",
      "        return round(at_content, sig_figs)\n",
      "\n",
      "\n",
      "    test_dna = \"ATGCATGCAACTGTAGC\"\n",
      "    \n",
      "    print(get_at_content(test_dna, 1))\n",
      "    print(get_at_content(test_dna, 2))\n",
      "    print(get_at_content(test_dna, 3))"
     ]
    },
    {
     "cell_type": "markdown",
     "metadata": {},
     "source": [
      "Functions do not always have to take parameters\n",
      "\n",
      "Functions do not always have to return a value\n",
      "\n",
      "    def get_at_content():\n",
      "        test_dna = \"ATGCATGCAACTGTAGC\"\n",
      "        length = len(dna)\n",
      "        a_count = dna.upper().count('A')\n",
      "        t_count = dna.upper().count('T')\n",
      "        at_content = (a_count + t_count) / length\n",
      "        print(round(at_content, sig_figs))\n",
      "\n",
      "What are the disadvantages of doing these things?"
     ]
    },
    {
     "cell_type": "heading",
     "level": 2,
     "metadata": {},
     "source": [
      "Defaults & Named Arguments"
     ]
    },
    {
     "cell_type": "markdown",
     "metadata": {},
     "source": [
      "Function arguments can be named\n",
      "\n",
      "Order then does not matter\n",
      "\n",
      "    get_at_content(dna=\"ATCGTGACTCG\", sig_figs=2)\n",
      "\n",
      "    get_at_content(sig_figs=2, dna=\"ATCGTGACTCG\")\n",
      "\n",
      "Functions can have default values\n",
      "\n",
      "Default values do not need to be provided unless a different value is desired\n",
      "\n",
      "    def get_at_content(dna, sig_figs=2):\n",
      "        # function code here\n",
      "        \n",
      "    get_at_content(my_dna)"
     ]
    },
    {
     "cell_type": "heading",
     "level": 2,
     "metadata": {},
     "source": [
      "Testing Functions"
     ]
    },
    {
     "cell_type": "markdown",
     "metadata": {},
     "source": [
      "Functions should be testing with know good values\n",
      "\n",
      "Functions should be tested with known bad values\n",
      "\n",
      "    assert get_at_content(\"ATGC\") == 0.5\n",
      "    \n",
      "    assert get_at_content(\"A\") == 1\n",
      "    \n",
      "    assert get_at_content(\"G\") == 0\n",
      "    \n",
      "    assert get_at_content(\"ATGC\") == 0.5\n",
      "\n",
      "    assert get_at_content(\"AGG\") == 0.33\n",
      "\n",
      "    assert get_at_content(\"AGG\", 1) == 0.3\n",
      "\n",
      "    assert get_at_content(\"AGG\", 5) == 0.33333"
     ]
    },
    {
     "cell_type": "markdown",
     "metadata": {},
     "source": [
      "---"
     ]
    },
    {
     "cell_type": "heading",
     "level": 1,
     "metadata": {},
     "source": [
      "Conditional Tests"
     ]
    },
    {
     "cell_type": "heading",
     "level": 2,
     "metadata": {},
     "source": [
      "True, False, If\u2026else\u2026elif\u2026then"
     ]
    },
    {
     "cell_type": "markdown",
     "metadata": {},
     "source": [
      "Python has a built-in values \u201cTrue\u201d, \u201cFalse\u201d\n",
      "\n",
      "Conditional statements evaluate to True or False\n",
      "\n",
      "If statements use conditional statements\n",
      "\n",
      "    expression_level = 125\n",
      "    if expression_level > 100:\n",
      "        print(\"gene is highly expressed\")\n",
      "\n",
      "    "
     ]
    },
    {
     "cell_type": "code",
     "collapsed": false,
     "input": [
      "expression_level = 125\n",
      "if not expression_level > 100:\n",
      "    print(\"gene is highly expressed\")\n",
      "else:\n",
      "    print(\"gene is lowly expressed\")"
     ],
     "language": "python",
     "metadata": {},
     "outputs": []
    },
    {
     "cell_type": "code",
     "collapsed": false,
     "input": [
      "if\n",
      "elif\n",
      "else\n",
      "\n",
      "value = True\n"
     ],
     "language": "python",
     "metadata": {},
     "outputs": []
    },
    {
     "cell_type": "markdown",
     "metadata": {},
     "source": [
      "Use conditional statements to seperate accessions...\n",
      "\n",
      "In a new cell below type, and run:\n",
      "\n",
      "    file1 = open(\"one.txt\", \"w\")\n",
      "\n",
      "    file2 = open(\"two.txt\", \"w\")\n",
      "\n",
      "    file3 = open(\"three.txt\", \"w\")\n",
      "\n",
      "    accs = ['ab56', 'bh84', 'hv76', 'ay93', 'ap97', 'bd72']\n",
      "\n",
      "    for accession in accs:\n",
      "        if accession.startswith('a'):\n",
      "            file1.write(accession + \"\\n\")\n",
      "        elif accession.startswith('b'):\n",
      "            file2.write(accession + \"\\n\")\n",
      "        else:\n",
      "            file3.write(accession + \"\\n\")"
     ]
    },
    {
     "cell_type": "heading",
     "level": 2,
     "metadata": {},
     "source": [
      "While Loops"
     ]
    },
    {
     "cell_type": "markdown",
     "metadata": {},
     "source": [
      "While loops loop until a condition is met\n",
      "\n",
      "In a new cell below type, and run:\n",
      "\n",
      "    count = 0\n",
      "\n",
      "    while count<10:\n",
      "        print(count)\n",
      "        count = count + 1"
     ]
    },
    {
     "cell_type": "heading",
     "level": 2,
     "metadata": {},
     "source": [
      "Building Complex Conditions"
     ]
    },
    {
     "cell_type": "markdown",
     "metadata": {},
     "source": [
      "Use \u201cand\u201d, \u201cor\u201d, \u201cnot and\u201d, \u201cnot or\u201d to build complex conditions\n",
      "\n",
      "In a new cell below type, and run:\n",
      "\n",
      "    accs = ['ab56', 'bh84', 'hv76', 'ay93', 'ap97', 'bd72']\n",
      "\n",
      "    for accession in accs:\n",
      "        if accession.startswith('a') and accession.endswith('3'):\n",
      "            print(accession)"
     ]
    },
    {
     "cell_type": "heading",
     "level": 1,
     "metadata": {},
     "source": [
      "Regular Expressions"
     ]
    },
    {
     "cell_type": "heading",
     "level": 2,
     "metadata": {},
     "source": [
      "Patterns in Biology"
     ]
    },
    {
     "cell_type": "markdown",
     "metadata": {},
     "source": [
      "There are a lot of patterns in biology:\n",
      "\n",
      "- protein domains\n",
      "- DNA transcription factor binding motifs\n",
      "- restriction enzyme cut sites\n",
      "- runs of mononucleotides\n",
      "\n",
      "Pattern in strings inside text:\n",
      "- read mapping locations\n",
      "- geographical sample coordinates\n",
      "- taxonomic names\n",
      "- gene names\n",
      "- gene accession numbers\n",
      "- BLAST searches"
     ]
    },
    {
     "cell_type": "markdown",
     "metadata": {},
     "source": [
      "Many problems that we want to solve that require more flexible patterns:\n",
      "\n",
      "- Given a DNA sequence, what's the length of the poly-A tail?\n",
      "- Given a gene accession name, extract the part between the third character and the underscore\n",
      "- Given a protein sequence, determine if it contains this highly-redundant domain motif"
     ]
    },
    {
     "cell_type": "heading",
     "level": 2,
     "metadata": {},
     "source": [
      "Regular expression module"
     ]
    },
    {
     "cell_type": "markdown",
     "metadata": {},
     "source": [
      "To search for these patterns, we use the regular expression module \u201cre\u201d\n",
      "\n",
      "In a new cell below type, and run:\n",
      "    \n",
      "    import re\n",
      "\n",
      "    re.search(pattern, string)\n",
      "    \n",
      "    dna = \"ATCGCGAATTCAC\"\n",
      "\n",
      "    if re.search(r\"GAATTC\", dna):\n",
      "        print(\"restriction site found!\")\n",
      "\n",
      "    if re.search(r\"GC(A|T|G|C)GC\", dna):\n",
      "        print(\"restriction site found!\")\n",
      "\n",
      "    if re.search(r\"GC[ATGC]+GC\", dna): \\d\n",
      "        print(\"restriction site found!\")"
     ]
    },
    {
     "cell_type": "heading",
     "level": 2,
     "metadata": {},
     "source": [
      "Get String and Position of Match"
     ]
    },
    {
     "cell_type": "markdown",
     "metadata": {},
     "source": [
      "Get the string that matched\n",
      "\n",
      "In a new cell below type, and run:\n",
      "\n",
      "    dna = \"ATGACGTACGTACGACTG\"\n",
      "\n",
      "    # store the match object in the variable m\n",
      "\n",
      "    m = re.search(r\"GA([ATGC]{3})AC([ATGC]{2})AC\", dna)\n",
      "\n",
      "    print(\"entire match: \" + m.group())\n",
      "\n",
      "    print(\"first bit: \" + m.group(1))\n",
      "\n",
      "    print(\"second bit: \" + m.group(2))\n",
      "\n",
      "\n",
      "Get the positions of the match\n",
      "\n",
      "In a new cell below type, and run:\n",
      "\n",
      "    print(\"start: \" + str(m.start()))\n",
      "\n",
      "    print(\"end: \" + str(m.end()))"
     ]
    },
    {
     "cell_type": "code",
     "collapsed": false,
     "input": [
      "import re\n",
      "m = re.search(\"[ATGC]\", 'ATCG')\n",
      "re?"
     ],
     "language": "python",
     "metadata": {},
     "outputs": []
    },
    {
     "cell_type": "heading",
     "level": 1,
     "metadata": {},
     "source": [
      "Dictionaries"
     ]
    },
    {
     "cell_type": "heading",
     "level": 2,
     "metadata": {},
     "source": [
      "Storing Paired Data"
     ]
    },
    {
     "cell_type": "markdown",
     "metadata": {},
     "source": [
      "In a new cell below type, and run:\n",
      "\n",
      "    enzymes = {}\n",
      "    enzymes['EcoRI'] = r'GAATTC'\n",
      "    enzymes['AvaII] = r'GG(A|T)CC'\n",
      "    enzymes['BisI'] = r'GC[ATGC]GC'\n",
      "\n",
      "    # remove the EcoRI enzyme from the dict\n",
      "    enzymes.pop('EcoRI')\n",
      "\n",
      "    dna = \"AATGATCGATCGTACGCTGA\"\n",
      "    counts = {}\n",
      "    for base1 in ['A', 'T', 'G', 'C']:\n",
      "        for base2 in ['A', 'T', 'G', 'C']:\n",
      "            for base3 in ['A', 'T', 'G', 'C']:\n",
      "                trinucleotide = base1 + base2 + base3\n",
      "                count = dna.count(trinucleotide)\n",
      "                counts[trinucleotide] = count\n",
      "    print(counts)"
     ]
    },
    {
     "cell_type": "markdown",
     "metadata": {},
     "source": [
      "In a new cell below type, and run:\n",
      "\n",
      "    count = {'ACC': 0, 'ATG': 1, 'AAG': 0, 'AAA': 0, 'ATC': 2, 'AAC': 0, 'ATA': 0, 'AGG': 0, 'CCT': 0, 'CTC': 0, 'AGC': 0, 'ACA': 0, 'AGA': 0, 'CAT': 0, 'AAT': 1, 'ATT': 0, 'CTG': 1, 'CTA': 0, 'ACT': 0, 'CAC': 0, 'ACG': 1, 'CAA': 0, 'AGT': 0, 'CAG': 0, 'CCG': 0, 'CCC': 0, 'CTT': 0, 'TAT': 0, 'GGT': 0, 'TGT': 0, 'CGA': 1, 'CCA': 0, 'TCT': 0, 'GAT': 2, 'CGG': 0, 'TTT': 0, 'TGC': 0, 'GGG': 0, 'TAG': 0, 'GGA': 0, 'TAA': 0, 'GGC': 0, 'TAC': 1, 'TTC': 0, 'TCG': 2, 'TTA': 0, 'TTG': 0, 'TCC': 0, 'GAA': 0, 'TGG': 0, 'GCA': 0, 'GTA': 1, 'GCC': 0, 'GTC': 0, 'GCG': 0, 'GTG': 0, 'GAG': 0, 'GTT': 0, 'GCT': 1, 'TGA': 2, 'GAC': 0, 'CGT': 1, 'TCA': 0, 'CGC': 1}\n",
      "\n",
      "    print(counts['TGA'])\n",
      "\n",
      "    if 'AAA' in counts:\n",
      "        print(counts('AAA'))\n",
      "\n",
      "    for trinucleotide in counts.keys():\n",
      "        if counts.get(trinucleotide) == 2:\n",
      "            print(trinucleotide)\n",
      "\n",
      "    for trinucleotide in sorted(counts.keys()):\n",
      "        if counts.get(trinucleotide) == 2:\n",
      "            print(trinucleotide)\n",
      "\n",
      "    for trinucleotide, count in counts.items():\n",
      "        if count == 2:\n",
      "            print(trinucleotide)"
     ]
    },
    {
     "cell_type": "markdown",
     "metadata": {},
     "source": [
      "---"
     ]
    },
    {
     "cell_type": "heading",
     "level": 1,
     "metadata": {},
     "source": [
      "Files, Programs, & User Input"
     ]
    },
    {
     "cell_type": "heading",
     "level": 2,
     "metadata": {},
     "source": [
      "Basic File Manipulation"
     ]
    },
    {
     "cell_type": "markdown",
     "metadata": {},
     "source": [
      "Rename a file\n",
      "\n",
      "In a new cell below type, and run:\n",
      "\n",
      "    import os\n",
      "\n",
      "    os.rename(\"old.txt\", \"new.txt\")\n",
      "\n",
      "Rename a folder\n",
      "\n",
      "    os.rename(\"/home/martin/old_folder\", \"/home/martin/new_folder\")\n",
      "\n",
      "Check to see if a file exists\n",
      "\n",
      "    if os.path.exists(\"/home/martin/email.txt\"):\n",
      "        print(\"You have mail!\")"
     ]
    },
    {
     "cell_type": "markdown",
     "metadata": {},
     "source": [
      "Remove a file\n",
      "\n",
      "    os.remove(\"/home/martin/unwanted_file.txt\")\n",
      "\n",
      "Remove empty folder\n",
      "\n",
      "    os.rmdir(\"/home/martin/emtpy\")\n",
      "\n",
      "\n",
      "To delete a folder and all the files in it, use shutil.rmtree\n",
      "\n",
      "    from shutil import rmtree\n",
      "\n",
      "    shutil.rmtree(\"home/martin/full\")"
     ]
    },
    {
     "cell_type": "heading",
     "level": 2,
     "metadata": {},
     "source": [
      "Running External Programs"
     ]
    },
    {
     "cell_type": "markdown",
     "metadata": {},
     "source": [
      "Run an external program\n",
      "\n",
      "In a new cell below type, and run:\n",
      "    \n",
      "    import subprocess\n",
      "\n",
      "    subprocess.call(\"/bin/date\")\n",
      "\n",
      "\n",
      "Run an external program with options\n",
      "\n",
      "    subprocess.call(\"/bin/date +%B\", shell=True)\n",
      "\n",
      "\n",
      "Saving program output\n",
      "\n",
      "    current_month = subprocess.check_output(\"/bin/date +%B\", shell=True)"
     ]
    },
    {
     "cell_type": "markdown",
     "metadata": {},
     "source": [
      "Now using IPython magic:"
     ]
    },
    {
     "cell_type": "code",
     "collapsed": false,
     "input": [
      "!/bin/date"
     ],
     "language": "python",
     "metadata": {},
     "outputs": []
    },
    {
     "cell_type": "heading",
     "level": 2,
     "metadata": {},
     "source": [
      "User Input"
     ]
    },
    {
     "cell_type": "markdown",
     "metadata": {},
     "source": [
      "Interactive user input\n",
      "\n",
      "In a new cell below type, and run:\n",
      "\n",
      "        accession = input(\"Enter the accession name\")\n",
      "\n",
      "        # do something with the accession variable\n",
      "\n",
      "Capture command line arguments\n",
      "\n",
      "    import sys\n",
      "\n",
      "    print(sys.argv)\n",
      "\n",
      "    # python myprogram.py one two three\n",
      "\n",
      "    # sys.argv[1] return script name"
     ]
    },
    {
     "cell_type": "markdown",
     "metadata": {},
     "source": [
      "---"
     ]
    },
    {
     "cell_type": "heading",
     "level": 1,
     "metadata": {},
     "source": [
      "To conclude\u2026"
     ]
    },
    {
     "cell_type": "heading",
     "level": 2,
     "metadata": {},
     "source": [
      "Goals"
     ]
    },
    {
     "cell_type": "markdown",
     "metadata": {},
     "source": [
      "- Introduce you to the basics of the python programming language\n",
      "\n",
      "- Introduced you to the iPython environment\n",
      "\n",
      "- Prepare you for the next session \u201cIntroduction to Biopython for Scientists\u201d\n",
      "\n",
      "- Enable you to write or assemble scripts of your own or modify existing scripts for your own purposes"
     ]
    },
    {
     "cell_type": "markdown",
     "metadata": {},
     "source": [
      "---"
     ]
    },
    {
     "cell_type": "heading",
     "level": 1,
     "metadata": {},
     "source": [
      "Resources"
     ]
    },
    {
     "cell_type": "markdown",
     "metadata": {},
     "source": [
      "Websites:\n",
      "\n",
      "http://pythonforbiologists.com\n",
      "http://www.pythonforbeginners.com\n",
      "http://www.pythontutor.com/visualize.html#mode=display\n",
      "\n",
      "\n",
      "Free eBook in HTML / PDF\n",
      "\n",
      "http://pythonforbiologists.com\n",
      "http://greenteapress.com/thinkpython/\n",
      "http://openbookproject.net/books/bpp4awd/index.html\n",
      "\n",
      "\n",
      "Python Regular Expressions (pattern matching)\n",
      "\n",
      "http://www.pythonregex.com\n",
      "\n",
      "\n",
      "Python Style Guide\n",
      "\n",
      "http://www.python.org/dev/peps/pep-0008/"
     ]
    },
    {
     "cell_type": "markdown",
     "metadata": {},
     "source": [
      "---"
     ]
    },
    {
     "cell_type": "heading",
     "level": 1,
     "metadata": {},
     "source": [
      "Q & A"
     ]
    },
    {
     "cell_type": "markdown",
     "metadata": {},
     "source": [
      "Collaborations welcome\n",
      "\n",
      "R. Burke Squires - richard.squires@nih.gov\n",
      "\n",
      "or\n",
      "\n",
      "ScienceApps@niaid.nih.gov"
     ]
    },
    {
     "cell_type": "code",
     "collapsed": false,
     "input": [],
     "language": "python",
     "metadata": {},
     "outputs": []
    }
   ],
   "metadata": {}
  }
 ]
}